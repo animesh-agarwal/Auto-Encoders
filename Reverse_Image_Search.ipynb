{
  "nbformat": 4,
  "nbformat_minor": 0,
  "metadata": {
    "colab": {
      "name": "Content Based Image Retrieval - DataSets and Iterators.ipynb",
      "version": "0.3.2",
      "provenance": [],
      "toc_visible": true
    },
    "kernelspec": {
      "name": "python3",
      "display_name": "Python 3"
    },
    "accelerator": "GPU"
  },
  "cells": [
    {
      "cell_type": "markdown",
      "metadata": {
        "id": "U9mLpQLN7l_b",
        "colab_type": "text"
      },
      "source": [
        "## Import Libraries"
      ]
    },
    {
      "cell_type": "code",
      "metadata": {
        "id": "ZYv4AN3z0ac4",
        "colab_type": "code",
        "colab": {}
      },
      "source": [
        "import numpy as np\n",
        "import matplotlib.pyplot as plt\n",
        "import tensorflow as tf\n",
        "from tensorflow import keras\n",
        "from annoy import AnnoyIndex\n",
        "import os"
      ],
      "execution_count": 0,
      "outputs": []
    },
    {
      "cell_type": "markdown",
      "metadata": {
        "id": "1X02YuK87qfR",
        "colab_type": "text"
      },
      "source": [
        "## Download the Data"
      ]
    },
    {
      "cell_type": "code",
      "metadata": {
        "id": "mzvdVvR60nrX",
        "colab_type": "code",
        "colab": {
          "base_uri": "https://localhost:8080/",
          "height": 151
        },
        "outputId": "59d2f27a-6b67-48b4-83e9-10bc278e154d"
      },
      "source": [
        "fashion_mnist = keras.datasets.fashion_mnist\n",
        "(train_images, train_labels), (test_images, test_labels) = fashion_mnist.load_data()"
      ],
      "execution_count": 2,
      "outputs": [
        {
          "output_type": "stream",
          "text": [
            "Downloading data from https://storage.googleapis.com/tensorflow/tf-keras-datasets/train-labels-idx1-ubyte.gz\n",
            "32768/29515 [=================================] - 0s 0us/step\n",
            "Downloading data from https://storage.googleapis.com/tensorflow/tf-keras-datasets/train-images-idx3-ubyte.gz\n",
            "26427392/26421880 [==============================] - 0s 0us/step\n",
            "Downloading data from https://storage.googleapis.com/tensorflow/tf-keras-datasets/t10k-labels-idx1-ubyte.gz\n",
            "8192/5148 [===============================================] - 0s 0us/step\n",
            "Downloading data from https://storage.googleapis.com/tensorflow/tf-keras-datasets/t10k-images-idx3-ubyte.gz\n",
            "4423680/4422102 [==============================] - 0s 0us/step\n"
          ],
          "name": "stdout"
        }
      ]
    },
    {
      "cell_type": "markdown",
      "metadata": {
        "id": "q-pXa7m6J2Z8",
        "colab_type": "text"
      },
      "source": [
        "## Exploratory Data Analysis"
      ]
    },
    {
      "cell_type": "code",
      "metadata": {
        "colab_type": "code",
        "id": "-2yX_bCbpKBi",
        "colab": {}
      },
      "source": [
        "# resize the pixel values between 0 and 255\n",
        "train_images = train_images/255\n",
        "test_images = test_images/255"
      ],
      "execution_count": 0,
      "outputs": []
    },
    {
      "cell_type": "code",
      "metadata": {
        "id": "MHJMfwEvz0Go",
        "colab_type": "code",
        "outputId": "fa2927b9-c253-4965-b8e1-9105a591fd72",
        "colab": {
          "base_uri": "https://localhost:8080/",
          "height": 50
        }
      },
      "source": [
        "print(train_images.shape)\n",
        "print(test_images.shape)"
      ],
      "execution_count": 4,
      "outputs": [
        {
          "output_type": "stream",
          "text": [
            "(60000, 28, 28)\n",
            "(10000, 28, 28)\n"
          ],
          "name": "stdout"
        }
      ]
    },
    {
      "cell_type": "code",
      "metadata": {
        "id": "oWliZTFipMkK",
        "colab_type": "code",
        "colab": {}
      },
      "source": [
        "# different product categories in the dataset \n",
        "labeldict = {\n",
        "    0: 'T-shirt/top',\n",
        "    1: 'Trouser',\n",
        "    2: 'Pullover',\n",
        "    3: 'Dress',\n",
        "    4: 'Coat',\n",
        "    5: 'Sandal',\n",
        "    6: 'Shirt',\n",
        "    7: 'Sneaker',\n",
        "    8: 'Bag',\n",
        "    9: 'Ankle boot'\n",
        "}"
      ],
      "execution_count": 0,
      "outputs": []
    },
    {
      "cell_type": "code",
      "metadata": {
        "id": "YG3VgMv7patc",
        "colab_type": "code",
        "outputId": "869a6800-7f61-44f4-b0e5-a3327cca3ae7",
        "colab": {
          "base_uri": "https://localhost:8080/",
          "height": 34
        }
      },
      "source": [
        "# no of times each product category is present in the dataset\n",
        "category_counts = dict(zip(*np.unique(train_labels, return_counts=True)))\n",
        "print(category_counts)\n"
      ],
      "execution_count": 6,
      "outputs": [
        {
          "output_type": "stream",
          "text": [
            "{0: 6000, 1: 6000, 2: 6000, 3: 6000, 4: 6000, 5: 6000, 6: 6000, 7: 6000, 8: 6000, 9: 6000}\n"
          ],
          "name": "stdout"
        }
      ]
    },
    {
      "cell_type": "code",
      "metadata": {
        "id": "2OdHpDAWsO2J",
        "colab_type": "code",
        "outputId": "b678df8e-6db5-4692-cc81-36f2153ac17f",
        "colab": {
          "base_uri": "https://localhost:8080/",
          "height": 534
        }
      },
      "source": [
        "# let's show some sample images\n",
        "plt.figure(figsize=(12,8))\n",
        "for index in range(16):\n",
        "  rand_idx = np.random.randint(0,train_labels.shape[0])\n",
        "  plt.subplot(4,4,index+1)\n",
        "  plt.xticks([])\n",
        "  plt.yticks([])\n",
        "  plt.grid('off')\n",
        "  plt.imshow(train_images[rand_idx], cmap='Greys_r')\n",
        "  plt.xlabel(labeldict[train_labels[rand_idx]])\n"
      ],
      "execution_count": 7,
      "outputs": [
        {
          "output_type": "stream",
          "text": [
            "/usr/local/lib/python3.6/dist-packages/matplotlib/cbook/__init__.py:424: MatplotlibDeprecationWarning: \n",
            "Passing one of 'on', 'true', 'off', 'false' as a boolean is deprecated; use an actual boolean (True/False) instead.\n",
            "  warn_deprecated(\"2.2\", \"Passing one of 'on', 'true', 'off', 'false' as a \"\n"
          ],
          "name": "stderr"
        },
        {
          "output_type": "display_data",
          "data": {
            "image/png": "[encoded data removed]",
            "text/plain": [
              "<Figure size 864x576 with 16 Axes>"
            ]
          },
          "metadata": {
            "tags": []
          }
        }
      ]
    },
    {
      "cell_type": "markdown",
      "metadata": {
        "id": "HLYAhjXR8F9G",
        "colab_type": "text"
      },
      "source": [
        "## Helper Functions\n",
        "\n",
        "Plot the original and the reconstructed image"
      ]
    },
    {
      "cell_type": "code",
      "metadata": {
        "id": "A5lFn2W-1AP7",
        "colab_type": "code",
        "colab": {}
      },
      "source": [
        "def plot_images(original, reconstructed):\n",
        "  \n",
        "  fig, axes = plt.subplots(nrows=2, ncols=10, sharex=True, sharey=True, figsize=(12,4))\n",
        "  \n",
        "  for images, axes in zip([original, reconstructed], axes):\n",
        "    for image, ax in zip(images, axes):\n",
        "      ax.imshow(image.reshape(28,28), cmap=\"Greys_r\")\n",
        "      ax.get_xaxis().set_visible(False)\n",
        "      ax.get_yaxis().set_visible(False)\n",
        "      \n",
        "  fig.tight_layout(pad=0.1)"
      ],
      "execution_count": 0,
      "outputs": []
    },
    {
      "cell_type": "markdown",
      "metadata": {
        "id": "R6SXOlP7Fkdr",
        "colab_type": "text"
      },
      "source": [
        "## Define the placeholders"
      ]
    },
    {
      "cell_type": "code",
      "metadata": {
        "id": "ySnUx5pKBPKO",
        "colab_type": "code",
        "colab": {}
      },
      "source": [
        "# defines the placeholders for the inputs and the targets\n",
        "# in this case the inputs and the targets are the same\n",
        "def placeholders(image_size, n_channels ):\n",
        "  inputs = tf.placeholder(dtype=tf.float32, shape=[None, image_size, image_size,n_channels], name='inputs')\n",
        "  targets = tf.placeholder(dtype=tf.float32, shape=[None, image_size, image_size, n_channels], name='targets')\n",
        "  batch_size = tf.placeholder(dtype=tf.int32, name='batch_size')\n",
        "  return inputs, targets, batch_size"
      ],
      "execution_count": 0,
      "outputs": []
    },
    {
      "cell_type": "markdown",
      "metadata": {
        "id": "mGh1yWxuFnt6",
        "colab_type": "text"
      },
      "source": [
        "## Define the model"
      ]
    },
    {
      "cell_type": "code",
      "metadata": {
        "id": "qGJIhPuzEs_b",
        "colab_type": "code",
        "colab": {}
      },
      "source": [
        "def encoder_decoder_network(X):\n",
        "  \n",
        "  #ENCODER NETOWRK\n",
        "  \n",
        "  # X's shape - 28*28*1\n",
        "  W1 = tf.get_variable(\"W1\", shape=[3,3,1,16], initializer=tf.contrib.layers.xavier_initializer(seed=0))\n",
        "  # 28*28*16 \n",
        "  conv1 = tf.nn.conv2d(X, W1, strides=[1,1,1,1], padding='SAME')\n",
        "  relu1 = tf.nn.relu(conv1)\n",
        "  #14*14*16\n",
        "  pool1 = tf.nn.max_pool(relu1, ksize=[1,2,2,1], strides=[1,2,2,1], padding='SAME')\n",
        "  \n",
        "  #14*14*8\n",
        "  W2 = tf.get_variable(\"W2\", shape=[3,3,16,8], initializer=tf.contrib.layers.xavier_initializer(seed=0))\n",
        "  conv2 = tf.nn.conv2d(pool1, W2, strides=[1,1,1,1], padding='SAME')\n",
        "  relu2 = tf.nn.relu(conv2)\n",
        "  #7*7*8\n",
        "  pool2 = tf.nn.max_pool(relu2, ksize=[1,2,2,1], strides=[1,2,2,1], padding='SAME')\n",
        "  #7*7*8\n",
        "  W3 = tf.get_variable(\"W3\", shape=[3,3,8,8], initializer=tf.contrib.layers.xavier_initializer(seed=0))\n",
        "  conv3 = tf.nn.conv2d(pool2, W3, strides=[1,1,1,1], padding='SAME')\n",
        "  relu3 = tf.nn.relu(conv3)\n",
        "  #4*4*8\n",
        "  pool3 = tf.nn.max_pool(relu3, ksize=[1,2,2,1], strides=[1,2,2,1], padding='SAME', name='encodings')\n",
        "  \n",
        "  encoded = pool3\n",
        "  \n",
        "  # the image is now 4*4*8 \n",
        "  \n",
        "  # DECODER NETWORK \n",
        "  \n",
        "  \n",
        "  upsample1 = tf.image.resize_nearest_neighbor(encoded, (7,7))\n",
        "  #7*7*8\n",
        "  W4 = tf.get_variable(\"W4\", shape=[3,3,8,8], initializer=tf.contrib.layers.xavier_initializer(seed=0))\n",
        "  conv4 = tf.nn.conv2d(upsample1, W4, strides=[1,1,1,1], padding='SAME')\n",
        "  relu4 = tf.nn.relu(conv4)\n",
        "  \n",
        "  upsample2 = tf.image.resize_nearest_neighbor(relu4, (14,14))\n",
        "  # 14*14*8\n",
        "  W5 = tf.get_variable(\"W5\", shape=[3,3,8,8], initializer=tf.contrib.layers.xavier_initializer(seed=0))\n",
        "  conv5 = tf.nn.conv2d(upsample2, W5, strides=[1,1,1,1], padding='SAME')\n",
        "  relu5 = tf.nn.relu(conv5)\n",
        "  \n",
        "  # 28*28*8\n",
        "  upsample3 = tf.image.resize_nearest_neighbor(relu5, (28,28))\n",
        "  \n",
        "  W6 = tf.get_variable(\"W6\", shape=[3,3,8,16], initializer=tf.contrib.layers.xavier_initializer(seed=0))\n",
        "  conv6 = tf.nn.conv2d(upsample3, W6, strides=[1,1,1,1], padding='SAME')\n",
        "  relu6 = tf.nn.relu(conv6)\n",
        "  \n",
        "  W7 = tf.get_variable(\"W7\", shape=[3,3,16,1], initializer=tf.contrib.layers.xavier_initializer(seed=0))\n",
        "  conv7 = tf.nn.conv2d(relu6, W7, strides=[1,1,1,1], padding='SAME')\n",
        "  \n",
        "  logits = conv7\n",
        "  \n",
        "  decoded = tf.nn.sigmoid(logits, name='decoded')\n",
        "  \n",
        "  return encoded, decoded, logits"
      ],
      "execution_count": 0,
      "outputs": []
    },
    {
      "cell_type": "markdown",
      "metadata": {
        "id": "Yno_PKzWFr4b",
        "colab_type": "text"
      },
      "source": [
        "## Define the training operations"
      ]
    },
    {
      "cell_type": "code",
      "metadata": {
        "id": "UctvR8DQABkq",
        "colab_type": "code",
        "colab": {}
      },
      "source": [
        "def train_operations(logits, targets, learning_rate):\n",
        "  # define the loss\n",
        "  loss = tf.reduce_mean(tf.nn.sigmoid_cross_entropy_with_logits(logits=logits, labels=targets))\n",
        "  # use adam optimizer for faster convergence\n",
        "  training_op = tf.train.AdamOptimizer(learning_rate=learning_rate).minimize(loss)\n",
        "  return loss, training_op\n",
        "  "
      ],
      "execution_count": 0,
      "outputs": []
    },
    {
      "cell_type": "markdown",
      "metadata": {
        "id": "Oq8zyJ42FvuU",
        "colab_type": "text"
      },
      "source": [
        "## Train the model"
      ]
    },
    {
      "cell_type": "code",
      "metadata": {
        "id": "NW0fC1MLAt62",
        "colab_type": "code",
        "colab": {}
      },
      "source": [
        "def train_model(epochs, image_size, n_channels, batch_size, learning_rate, model_save_path):\n",
        "  \n",
        "  # reset the graphs\n",
        "  tf.reset_default_graph()\n",
        "  \n",
        "  # get the placeholders\n",
        "  inputs, targets, batch_op = placeholders(image_size, n_channels)\n",
        "  \n",
        "  # create a Dataset from the input data\n",
        "  dataset = tf.data.Dataset.from_tensor_slices((inputs,targets))\n",
        "  \n",
        "  # create batches of data \n",
        "  dataset = dataset.batch(batch_size)\n",
        "  \n",
        "  # define an iterator to consume the data\n",
        "  iterator = tf.data.Iterator.from_structure(dataset.output_types,dataset.output_shapes)\n",
        "  \n",
        "  train_initializer = iterator.make_initializer(dataset, name='init_iterator')\n",
        "  \n",
        "  # get the batch of data using get_next\n",
        "  input_batch, target_batch = iterator.get_next()\n",
        "  \n",
        "  encoded, decoded, logits = encoder_decoder_network(input_batch)\n",
        "  loss, training_op = train_operations(logits, target_batch, learning_rate)\n",
        "  \n",
        "  saver = tf.train.Saver()\n",
        "  with tf.Session() as sess:\n",
        "    sess.run(tf.global_variables_initializer())\n",
        "    for epoch in range(epochs):\n",
        "      epoch_loss = 0\n",
        "      \n",
        "      # run the initializer \n",
        "      sess.run(train_initializer, feed_dict = {\n",
        "          inputs: train_images.reshape(-1, image_size, image_size, n_channels),\n",
        "          targets : train_images.reshape(-1, image_size, image_size, n_channels),\n",
        "          batch_op: batch_size\n",
        "      })\n",
        "      \n",
        "      try:\n",
        "        while True:\n",
        "          batch_loss, _ = sess.run([loss, training_op])\n",
        "          epoch_loss += batch_loss\n",
        "      except tf.errors.OutOfRangeError:\n",
        "        pass\n",
        "        \n",
        "      print(\"Epoch {}/{}: Loss is {:.3f}\".format(epoch+1, epochs, epoch_loss))\n",
        "      \n",
        "      \n",
        "    print(\"Training over\\n\")\n",
        "    # save the model \n",
        "    saver.save(sess,model_save_path)\n",
        "    \n",
        "    print(\"Model saved at {}\".format(model_save_path))"
      ],
      "execution_count": 0,
      "outputs": []
    },
    {
      "cell_type": "markdown",
      "metadata": {
        "id": "UdgzYmKtFzrz",
        "colab_type": "text"
      },
      "source": [
        "## Define the model parameters"
      ]
    },
    {
      "cell_type": "code",
      "metadata": {
        "id": "XcWO5F_KODjY",
        "colab_type": "code",
        "colab": {}
      },
      "source": [
        "epochs = 20\n",
        "batch_size = 400\n",
        "image_size = 28 \n",
        "n_channels = 1\n",
        "learning_rate = 0.001\n"
      ],
      "execution_count": 0,
      "outputs": []
    },
    {
      "cell_type": "markdown",
      "metadata": {
        "id": "c1sWAE0hF5KI",
        "colab_type": "text"
      },
      "source": [
        "## Run the model"
      ]
    },
    {
      "cell_type": "code",
      "metadata": {
        "id": "_6Y2k4BiCkia",
        "colab_type": "code",
        "outputId": "35eec379-3d56-44f9-80d6-fec0cb5e833c",
        "colab": {
          "base_uri": "https://localhost:8080/",
          "height": 877
        }
      },
      "source": [
        "if not os.path.exists('checkpoints'):\n",
        "  os.mkdir('checkpoints')\n",
        "\n",
        "# checpoint directory \n",
        "chkpt_dir = os.path.join(os.getcwd(), 'checkpoints')\n",
        "# path to save the model\n",
        "model_save_path = os.path.join(chkpt_dir, 'fashion-mnist.chkpt')\n",
        "\n",
        "train_model(epochs=epochs, \n",
        "            batch_size=batch_size, \n",
        "            image_size=image_size, \n",
        "            n_channels= n_channels, \n",
        "            learning_rate = learning_rate,\n",
        "            model_save_path = model_save_path)"
      ],
      "execution_count": 14,
      "outputs": [
        {
          "output_type": "stream",
          "text": [
            "WARNING: Logging before flag parsing goes to stderr.\n",
            "W0624 19:15:28.400820 140069542197120 deprecation.py:323] From <ipython-input-12-6d437def06b0>:16: DatasetV1.output_types (from tensorflow.python.data.ops.dataset_ops) is deprecated and will be removed in a future version.\n",
            "Instructions for updating:\n",
            "Use `tf.compat.v1.data.get_output_types(dataset)`.\n",
            "W0624 19:15:28.402041 140069542197120 deprecation.py:323] From <ipython-input-12-6d437def06b0>:16: DatasetV1.output_shapes (from tensorflow.python.data.ops.dataset_ops) is deprecated and will be removed in a future version.\n",
            "Instructions for updating:\n",
            "Use `tf.compat.v1.data.get_output_shapes(dataset)`.\n",
            "W0624 19:15:28.411345 140069542197120 deprecation.py:323] From /usr/local/lib/python3.6/dist-packages/tensorflow/python/data/ops/iterator_ops.py:348: Iterator.output_types (from tensorflow.python.data.ops.iterator_ops) is deprecated and will be removed in a future version.\n",
            "Instructions for updating:\n",
            "Use `tf.compat.v1.data.get_output_types(iterator)`.\n",
            "W0624 19:15:28.412240 140069542197120 deprecation.py:323] From /usr/local/lib/python3.6/dist-packages/tensorflow/python/data/ops/iterator_ops.py:349: Iterator.output_shapes (from tensorflow.python.data.ops.iterator_ops) is deprecated and will be removed in a future version.\n",
            "Instructions for updating:\n",
            "Use `tf.compat.v1.data.get_output_shapes(iterator)`.\n",
            "W0624 19:15:28.414323 140069542197120 deprecation.py:323] From /usr/local/lib/python3.6/dist-packages/tensorflow/python/data/ops/iterator_ops.py:351: Iterator.output_classes (from tensorflow.python.data.ops.iterator_ops) is deprecated and will be removed in a future version.\n",
            "Instructions for updating:\n",
            "Use `tf.compat.v1.data.get_output_classes(iterator)`.\n",
            "W0624 19:15:30.547943 140069542197120 lazy_loader.py:50] \n",
            "The TensorFlow contrib module will not be included in TensorFlow 2.0.\n",
            "For more information, please see:\n",
            "  * https://github.com/tensorflow/community/blob/master/rfcs/20180907-contrib-sunset.md\n",
            "  * https://github.com/tensorflow/addons\n",
            "  * https://github.com/tensorflow/io (for I/O related ops)\n",
            "If you depend on functionality not listed there, please file an issue.\n",
            "\n",
            "W0624 19:15:30.749294 140069542197120 deprecation.py:323] From /usr/local/lib/python3.6/dist-packages/tensorflow/python/ops/nn_impl.py:180: add_dispatch_support.<locals>.wrapper (from tensorflow.python.ops.array_ops) is deprecated and will be removed in a future version.\n",
            "Instructions for updating:\n",
            "Use tf.where in 2.0, which has the same broadcast rule as np.where\n"
          ],
          "name": "stderr"
        },
        {
          "output_type": "stream",
          "text": [
            "Epoch 1/20: Loss is 64.375\n",
            "Epoch 2/20: Loss is 48.220\n",
            "Epoch 3/20: Loss is 46.779\n",
            "Epoch 4/20: Loss is 46.140\n",
            "Epoch 5/20: Loss is 45.726\n",
            "Epoch 6/20: Loss is 45.435\n",
            "Epoch 7/20: Loss is 45.215\n",
            "Epoch 8/20: Loss is 45.031\n",
            "Epoch 9/20: Loss is 44.868\n",
            "Epoch 10/20: Loss is 44.724\n",
            "Epoch 11/20: Loss is 44.593\n",
            "Epoch 12/20: Loss is 44.470\n",
            "Epoch 13/20: Loss is 44.357\n",
            "Epoch 14/20: Loss is 44.251\n",
            "Epoch 15/20: Loss is 44.152\n",
            "Epoch 16/20: Loss is 44.060\n",
            "Epoch 17/20: Loss is 43.975\n",
            "Epoch 18/20: Loss is 43.894\n",
            "Epoch 19/20: Loss is 43.820\n",
            "Epoch 20/20: Loss is 43.750\n",
            "Training over\n",
            "\n",
            "Model saved at /content/checkpoints/fashion-mnist.chkpt\n"
          ],
          "name": "stdout"
        }
      ]
    },
    {
      "cell_type": "markdown",
      "metadata": {
        "id": "gpsmXhC64FLk",
        "colab_type": "text"
      },
      "source": [
        "## Visualize the reconstructed images"
      ]
    },
    {
      "cell_type": "code",
      "metadata": {
        "id": "Q6-XxveBYT1K",
        "colab_type": "code",
        "colab": {}
      },
      "source": [
        "def test_network(model_path, images):\n",
        "  with tf.Session() as sess:\n",
        "    saver = tf.train.Saver()\n",
        "    saver.restore(sess, model_path)\n",
        "    default_graph = tf.get_default_graph()\n",
        "    inputs = default_graph.get_tensor_by_name('inputs:0')\n",
        "    targets = default_graph.get_tensor_by_name('targets:0')\n",
        "    \n",
        "    test_iterator_init = default_graph.get_operation_by_name('init_iterator')\n",
        "    decoded = default_graph.get_tensor_by_name('decoded:0')\n",
        "    reconstructed =[]\n",
        "    sess.run(test_iterator_init, feed_dict={\n",
        "        inputs:images,\n",
        "        targets:images\n",
        "    })\n",
        "    try:\n",
        "      while True:\n",
        "        reconstructed.append(sess.run(decoded))\n",
        "    except tf.errors.OutOfRangeError:\n",
        "      pass\n",
        "    return reconstructed\n",
        "    "
      ],
      "execution_count": 0,
      "outputs": []
    },
    {
      "cell_type": "code",
      "metadata": {
        "id": "VHTXyjY1b6Ke",
        "colab_type": "code",
        "colab": {
          "base_uri": "https://localhost:8080/",
          "height": 310
        },
        "outputId": "24bd468d-563f-4a9a-8125-f4b67bf91a3d"
      },
      "source": [
        "test_sample_images = test_images[:10]\n",
        "test_sample_images = test_sample_images.reshape(-1, image_size, image_size, n_channels)\n",
        "reconstructed_images = test_network(model_save_path, test_sample_images)\n",
        "reconstructed_images = np.array(reconstructed_images).reshape(10,28,28,1)\n",
        "plot_images(test_sample_images, reconstructed_images)"
      ],
      "execution_count": 16,
      "outputs": [
        {
          "output_type": "stream",
          "text": [
            "W0624 19:16:14.370965 140069542197120 deprecation.py:323] From /usr/local/lib/python3.6/dist-packages/tensorflow/python/training/saver.py:1276: checkpoint_exists (from tensorflow.python.training.checkpoint_management) is deprecated and will be removed in a future version.\n",
            "Instructions for updating:\n",
            "Use standard file APIs to check for files with this prefix.\n"
          ],
          "name": "stderr"
        },
        {
          "output_type": "display_data",
          "data": {
            "image/png": "[encoded data removed]",
            "text/plain": [
              "<Figure size 864x288 with 20 Axes>"
            ]
          },
          "metadata": {
            "tags": []
          }
        }
      ]
    },
    {
      "cell_type": "markdown",
      "metadata": {
        "id": "2clEbqKq4P4_",
        "colab_type": "text"
      },
      "source": [
        "## Latent features (Encodings)  "
      ]
    },
    {
      "cell_type": "code",
      "metadata": {
        "id": "IdBP4KpUu53A",
        "colab_type": "code",
        "colab": {}
      },
      "source": [
        "def get_encodings(model_path, images, encoding_vector_length):\n",
        "  with tf.Session() as sess:\n",
        "    saver = tf.train.Saver()\n",
        "    saver.restore(sess, model_path)\n",
        "    default_graph = tf.get_default_graph()\n",
        "    inputs = default_graph.get_tensor_by_name('inputs:0')\n",
        "    targets = default_graph.get_tensor_by_name('targets:0')\n",
        "    \n",
        "    iterator_init = default_graph.get_operation_by_name('init_iterator')\n",
        "    encoded = default_graph.get_tensor_by_name('encodings:0')\n",
        "    encoding_vectors =[]\n",
        "    sess.run(iterator_init, feed_dict={\n",
        "        inputs:images,\n",
        "        targets:images\n",
        "    })\n",
        "    try:\n",
        "      while True:\n",
        "        encoding_vectors.append(sess.run(encoded))\n",
        "    except tf.errors.OutOfRangeError:\n",
        "      pass\n",
        "    return np.array(encoding_vectors).reshape(-1, encoding_vector_length)"
      ],
      "execution_count": 0,
      "outputs": []
    },
    {
      "cell_type": "markdown",
      "metadata": {
        "id": "FvrOgw5d4bz0",
        "colab_type": "text"
      },
      "source": [
        "## Build the Annoy Index"
      ]
    },
    {
      "cell_type": "code",
      "metadata": {
        "id": "A43vR-ZL5GKQ",
        "colab_type": "code",
        "colab": {}
      },
      "source": [
        "encoding_vector_length = 128\n",
        "annoy_file_name = 'fashion-mnist.annoy.index'\n",
        "num_trees = 10"
      ],
      "execution_count": 0,
      "outputs": []
    },
    {
      "cell_type": "code",
      "metadata": {
        "id": "z1KCo-vSv1P3",
        "colab_type": "code",
        "colab": {}
      },
      "source": [
        "def build_annoy_index(encoding_dim, num_trees, annoy_index_file, encodings):\n",
        "  ann = AnnoyIndex(encoding_dim)\n",
        "  for index, encoding in enumerate(encodings):\n",
        "    ann.add_item(index, encoding)\n",
        "  ann.build(num_trees)\n",
        "  ann.save(annoy_index_file)\n",
        "  print(\"Created Annoy Index Successfully\")\n",
        "  "
      ],
      "execution_count": 0,
      "outputs": []
    },
    {
      "cell_type": "code",
      "metadata": {
        "id": "nRCKeq1TwqjF",
        "colab_type": "code",
        "colab": {
          "base_uri": "https://localhost:8080/",
          "height": 34
        },
        "outputId": "a84bdef5-5fc6-40b9-fda6-a9da14d3e8ec"
      },
      "source": [
        "train_images = train_images.reshape(train_images.shape[0], image_size, image_size, n_channels)\n",
        "encodings = get_encodings(model_save_path, train_images, encoding_vector_length)\n",
        "build_annoy_index(encoding_vector_length, num_trees, annoy_file_name, encodings)"
      ],
      "execution_count": 20,
      "outputs": [
        {
          "output_type": "stream",
          "text": [
            "Created Annoy Index Successfully\n"
          ],
          "name": "stdout"
        }
      ]
    },
    {
      "cell_type": "markdown",
      "metadata": {
        "id": "vnxa59sS4hh5",
        "colab_type": "text"
      },
      "source": [
        "## Get Similar Images"
      ]
    },
    {
      "cell_type": "code",
      "metadata": {
        "id": "oV1CncTpyNOl",
        "colab_type": "code",
        "colab": {}
      },
      "source": [
        "def get_similar_images(image, n_similar=10):\n",
        "  encoding = get_encodings(model_save_path,image.reshape(-1, image_size, image_size,n_channels), encoding_vector_length)\n",
        "  saved_ann = AnnoyIndex(encoding_vector_length)\n",
        "  saved_ann.load(annoy_file_name)\n",
        "  nn_indices = saved_ann.get_nns_by_vector(encoding[0], n_similar)\n",
        "  print(\"Similar images are\")\n",
        "  for i, index in enumerate(nn_indices,1):\n",
        "    image = train_images[index].reshape(28,28)\n",
        "    plt.subplot(2,5,i)\n",
        "    plt.xticks([])\n",
        "    plt.yticks([])\n",
        "    plt.imshow(image, cmap='Greys_r')"
      ],
      "execution_count": 0,
      "outputs": []
    },
    {
      "cell_type": "code",
      "metadata": {
        "id": "vFz4lxjx1TMm",
        "colab_type": "code",
        "colab": {
          "base_uri": "https://localhost:8080/",
          "height": 302
        },
        "outputId": "bc2fb29e-4b80-4710-9d28-c282c3745e95"
      },
      "source": [
        "sample_image = test_images[0]\n",
        "print(\"Sample Image\")\n",
        "plt.imshow(sample_image, cmap='Greys_r')"
      ],
      "execution_count": 22,
      "outputs": [
        {
          "output_type": "stream",
          "text": [
            "Sample Image\n"
          ],
          "name": "stdout"
        },
        {
          "output_type": "execute_result",
          "data": {
            "text/plain": [
              "<matplotlib.image.AxesImage at 0x7f63d0007780>"
            ]
          },
          "metadata": {
            "tags": []
          },
          "execution_count": 22
        },
        {
          "output_type": "display_data",
          "data": {
            "image/png": "[encoded data removed]",
            "text/plain": [
              "<Figure size 432x288 with 1 Axes>"
            ]
          },
          "metadata": {
            "tags": []
          }
        }
      ]
    },
    {
      "cell_type": "code",
      "metadata": {
        "id": "dI5DxsE-3gkG",
        "colab_type": "code",
        "colab": {
          "base_uri": "https://localhost:8080/",
          "height": 230
        },
        "outputId": "90cac32c-b25d-451b-ebbf-1f6120cfd7c9"
      },
      "source": [
        "get_similar_images(sample_image)"
      ],
      "execution_count": 23,
      "outputs": [
        {
          "output_type": "stream",
          "text": [
            "Similar images are\n"
          ],
          "name": "stdout"
        },
        {
          "output_type": "display_data",
          "data": {
            "image/png": "[encoded data removed]",
            "text/plain": [
              "<Figure size 432x288 with 10 Axes>"
            ]
          },
          "metadata": {
            "tags": []
          }
        }
      ]
    }
  ]
}